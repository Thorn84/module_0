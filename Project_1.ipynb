{
 "cells": [
  {
   "cell_type": "code",
   "execution_count": 2,
   "metadata": {},
   "outputs": [
    {
     "name": "stdout",
     "output_type": "stream",
     "text": [
      "Ваш алгоритм угадывает число в среднем за 5 попыток\n"
     ]
    },
    {
     "data": {
      "text/plain": [
       "5"
      ]
     },
     "execution_count": 2,
     "metadata": {},
     "output_type": "execute_result"
    }
   ],
   "source": [
    "import numpy as np\n",
    "begin = 0\n",
    "end = 100\n",
    "count = 1\n",
    "predict = np.random.randint(1,100)\n",
    "median = int((begin+end) / 2)\n",
    "\n",
    "#Функция реализует поиск числа в упорядоченной последовательности от 1 до 100\n",
    "#с помощью рекурсивного обхода дерева, где узлами являются медианные значения\n",
    "\n",
    "def game_core_v3(number=0,median=1,begin=0,end=100,count=1):\n",
    "    \n",
    "    #Если в узле находится искомое значение то она возвращает количество узлов, \n",
    "    #которые были посещены во время выполнения поиска\n",
    "    \n",
    "    if median == number:\n",
    "        return(int(count))\n",
    "    else:\n",
    "        \n",
    "        #Иначе задаются новые параметры для поиска\n",
    "        \n",
    "        #Если искомое значение больше медианного значения для поиска используем правое поддерево\n",
    "        if number > median:\n",
    "            begin = median+1\n",
    "        #Если искомое значение меньше медианного значения для поиска используем левое поддерево\n",
    "        else:\n",
    "            end = median-1\n",
    "        \n",
    "        #Далее осуществляется повторный вызов функции но с новыми параметрами поиска\n",
    "        return game_core_v3(number,int((begin+end) / 2),begin,end,count+1)\n",
    "\n",
    "def score_game(game_core):\n",
    "    '''Запускаем игру 1000 раз, чтобы узнать, как быстро игра угадывает число'''\n",
    "    count_ls = []\n",
    "    np.random.seed(1)  # фиксируем RANDOM SEED, чтобы ваш эксперимент был воспроизводим!\n",
    "    random_array = np.random.randint(1,101, size=(1000))\n",
    "    for number in random_array:\n",
    "        count_ls.append(game_core(number,median,begin,end,count))\n",
    "    score = int(np.mean(count_ls))\n",
    "    print(f\"Ваш алгоритм угадывает число в среднем за {score} попыток\")\n",
    "    return(score)\n",
    "\n",
    "score_game(game_core_v3)"
   ]
  },
  {
   "cell_type": "code",
   "execution_count": null,
   "metadata": {},
   "outputs": [],
   "source": []
  }
 ],
 "metadata": {
  "kernelspec": {
   "display_name": "Python 3",
   "language": "python",
   "name": "python3"
  },
  "language_info": {
   "codemirror_mode": {
    "name": "ipython",
    "version": 3
   },
   "file_extension": ".py",
   "mimetype": "text/x-python",
   "name": "python",
   "nbconvert_exporter": "python",
   "pygments_lexer": "ipython3",
   "version": "3.7.6"
  }
 },
 "nbformat": 4,
 "nbformat_minor": 4
}
